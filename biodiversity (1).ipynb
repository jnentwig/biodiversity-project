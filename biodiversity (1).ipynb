{
 "cells": [
  {
   "cell_type": "code",
   "execution_count": 17,
   "metadata": {
    "scrolled": false
   },
   "outputs": [
    {
     "name": "stdout",
     "output_type": "stream",
     "text": [
      "      scientific_name                            park_name  observations  \\\n",
      "0  Vicia benghalensis  Great Smoky Mountains National Park            68   \n",
      "1  Vicia benghalensis               Yosemite National Park           148   \n",
      "2  Vicia benghalensis            Yellowstone National Park           247   \n",
      "3  Vicia benghalensis                  Bryce National Park           104   \n",
      "4      Neovison vison  Great Smoky Mountains National Park            77   \n",
      "\n",
      "         category                        common_names conservation_status  \n",
      "0  Vascular Plant  Purple Vetch, Reddish Tufted Vetch                 NaN  \n",
      "1  Vascular Plant  Purple Vetch, Reddish Tufted Vetch                 NaN  \n",
      "2  Vascular Plant  Purple Vetch, Reddish Tufted Vetch                 NaN  \n",
      "3  Vascular Plant  Purple Vetch, Reddish Tufted Vetch                 NaN  \n",
      "4          Mammal                       American Mink                 NaN  \n"
     ]
    }
   ],
   "source": [
    "import pandas as pd\n",
    "observ_data = pd.read_csv(\"observations.csv\")\n",
    "species_data = pd.read_csv(\"species_info.csv\")\n",
    "full_data = pd.merge(observ_data, species_data)\n",
    "#scientic_name, park_name, observations, category, common_names, conservation_status\n",
    "#conservation_status: 'Species of Concern' 'Threatened' 'Endangered' 'In Recovery'\n",
    "print(full_data.head())\n",
    "#only endangered and threatened species\n",
    "in_danger = full_data.loc[(full_data.conservation_status == 'Endangered') | (full_data.conservation_status == 'Threatened' )]\n"
   ]
  },
  {
   "cell_type": "code",
   "execution_count": 38,
   "metadata": {},
   "outputs": [
    {
     "name": "stdout",
     "output_type": "stream",
     "text": [
      "6408\n",
      "5541\n",
      "5504\n"
     ]
    },
    {
     "ename": "ValueError",
     "evalue": "The truth value of a Series is ambiguous. Use a.empty, a.bool(), a.item(), a.any() or a.all().",
     "output_type": "error",
     "traceback": [
      "\u001b[1;31m---------------------------------------------------------------------------\u001b[0m",
      "\u001b[1;31mValueError\u001b[0m                                Traceback (most recent call last)",
      "Cell \u001b[1;32mIn[38], line 10\u001b[0m\n\u001b[0;32m      8\u001b[0m num_observ \u001b[38;5;241m=\u001b[39m []\n\u001b[0;32m      9\u001b[0m \u001b[38;5;28;01mfor\u001b[39;00m observance \u001b[38;5;129;01min\u001b[39;00m GSM_data:\n\u001b[1;32m---> 10\u001b[0m     \u001b[38;5;28;01mif\u001b[39;00m \u001b[43mGSM_data\u001b[49m\u001b[38;5;241;43m.\u001b[39;49m\u001b[43mcommon_names\u001b[49m\u001b[38;5;241;43m.\u001b[39;49m\u001b[43mastype\u001b[49m\u001b[43m(\u001b[49m\u001b[38;5;28;43mstr\u001b[39;49m\u001b[43m)\u001b[49m\u001b[43m \u001b[49m\u001b[38;5;129;43;01mnot\u001b[39;49;00m\u001b[43m \u001b[49m\u001b[38;5;129;43;01min\u001b[39;49;00m\u001b[43m \u001b[49m\u001b[43mcom_name\u001b[49m:\n\u001b[0;32m     11\u001b[0m         com_name\u001b[38;5;241m.\u001b[39mappend(GSM_data\u001b[38;5;241m.\u001b[39mcommon_names\u001b[38;5;241m.\u001b[39mastype(\u001b[38;5;28mstr\u001b[39m))\n\u001b[0;32m     12\u001b[0m         num_observ\u001b[38;5;241m.\u001b[39mappend(GSM_data\u001b[38;5;241m.\u001b[39mobservations)\n",
      "File \u001b[1;32m~\\anaconda3\\lib\\site-packages\\pandas\\core\\generic.py:1527\u001b[0m, in \u001b[0;36mNDFrame.__nonzero__\u001b[1;34m(self)\u001b[0m\n\u001b[0;32m   1525\u001b[0m \u001b[38;5;129m@final\u001b[39m\n\u001b[0;32m   1526\u001b[0m \u001b[38;5;28;01mdef\u001b[39;00m \u001b[38;5;21m__nonzero__\u001b[39m(\u001b[38;5;28mself\u001b[39m) \u001b[38;5;241m-\u001b[39m\u001b[38;5;241m>\u001b[39m NoReturn:\n\u001b[1;32m-> 1527\u001b[0m     \u001b[38;5;28;01mraise\u001b[39;00m \u001b[38;5;167;01mValueError\u001b[39;00m(\n\u001b[0;32m   1528\u001b[0m         \u001b[38;5;124mf\u001b[39m\u001b[38;5;124m\"\u001b[39m\u001b[38;5;124mThe truth value of a \u001b[39m\u001b[38;5;132;01m{\u001b[39;00m\u001b[38;5;28mtype\u001b[39m(\u001b[38;5;28mself\u001b[39m)\u001b[38;5;241m.\u001b[39m\u001b[38;5;18m__name__\u001b[39m\u001b[38;5;132;01m}\u001b[39;00m\u001b[38;5;124m is ambiguous. \u001b[39m\u001b[38;5;124m\"\u001b[39m\n\u001b[0;32m   1529\u001b[0m         \u001b[38;5;124m\"\u001b[39m\u001b[38;5;124mUse a.empty, a.bool(), a.item(), a.any() or a.all().\u001b[39m\u001b[38;5;124m\"\u001b[39m\n\u001b[0;32m   1530\u001b[0m     )\n",
      "\u001b[1;31mValueError\u001b[0m: The truth value of a Series is ambiguous. Use a.empty, a.bool(), a.item(), a.any() or a.all()."
     ]
    }
   ],
   "source": [
    "#add up total observations\n",
    "GSM_data = full_data[full_data.park_name == 'Great Smoky Mountains National Park']\n",
    "print(GSM_data.scientific_name.count())\n",
    "print(GSM_data.scientific_name.nunique())\n",
    "print(GSM_data.common_names.nunique())\n",
    "GSM_data = GSM_data.sort_values(by = 'common_names')\n",
    "com_name = []\n",
    "num_observ = []\n",
    "for observance in GSM_data:\n",
    "    if GSM_data.common_names.astype(str) not in com_name:\n",
    "        com_name.append(GSM_data.common_names.astype(str))\n",
    "        num_observ.append(GSM_data.observations)\n",
    "    else:\n",
    "        num_observ[-1] = num_observ[-1] + observance.observations\n",
    "print(com_name)\n",
    "print(num_observ)"
   ]
  }
 ],
 "metadata": {
  "kernelspec": {
   "display_name": "Python 3 (ipykernel)",
   "language": "python",
   "name": "python3"
  },
  "language_info": {
   "codemirror_mode": {
    "name": "ipython",
    "version": 3
   },
   "file_extension": ".py",
   "mimetype": "text/x-python",
   "name": "python",
   "nbconvert_exporter": "python",
   "pygments_lexer": "ipython3",
   "version": "3.10.9"
  }
 },
 "nbformat": 4,
 "nbformat_minor": 4
}
