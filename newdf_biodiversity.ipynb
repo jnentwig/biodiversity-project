{
 "cells": [
  {
   "cell_type": "code",
   "execution_count": 1,
   "id": "26034eaa",
   "metadata": {},
   "outputs": [
    {
     "name": "stdout",
     "output_type": "stream",
     "text": [
      "              species                                 park  observations\n",
      "0  Vicia benghalensis  Great Smoky Mountains National Park            68\n",
      "1  Vicia benghalensis               Yosemite National Park           148\n",
      "2  Vicia benghalensis                  Bryce National Park           104\n",
      "3  Vicia benghalensis            Yellowstone National Park           247\n",
      "4      Neovison vison  Great Smoky Mountains National Park            77\n"
     ]
    }
   ],
   "source": [
    "import pandas as pd\n",
    "import matplotlib.pyplot as plt\n",
    "import numpy as np\n",
    "observ_data = pd.read_csv(\"observations.csv\")\n",
    "species_data = pd.read_csv(\"species_info.csv\")\n",
    "species_df = []\n",
    "park_df = []\n",
    "sum_df = []\n",
    "for species in observ_data.scientific_name.unique():\n",
    "    for park in observ_data.park_name.unique():\n",
    "        species_df.append(species)\n",
    "        park_df.append(park)\n",
    "        sum_df.append(observ_data[(observ_data.scientific_name == species) & (observ_data.park_name == park)]['observations'].sum())\n",
    "df = pd.DataFrame(data={'species': species_df, 'park': park_df, 'observations': sum_df})\n",
    "print(df.head())\n"
   ]
  },
  {
   "cell_type": "code",
   "execution_count": 2,
   "id": "05564ca3",
   "metadata": {},
   "outputs": [],
   "source": [
    "df.to_csv('total_observations.csv', index=False)"
   ]
  }
 ],
 "metadata": {
  "kernelspec": {
   "display_name": "Python 3 (ipykernel)",
   "language": "python",
   "name": "python3"
  },
  "language_info": {
   "codemirror_mode": {
    "name": "ipython",
    "version": 3
   },
   "file_extension": ".py",
   "mimetype": "text/x-python",
   "name": "python",
   "nbconvert_exporter": "python",
   "pygments_lexer": "ipython3",
   "version": "3.10.9"
  }
 },
 "nbformat": 4,
 "nbformat_minor": 5
}
